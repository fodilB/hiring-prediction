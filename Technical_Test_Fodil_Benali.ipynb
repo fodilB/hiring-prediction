{
 "cells": [
  {
   "cell_type": "code",
   "execution_count": 1,
   "metadata": {},
   "outputs": [],
   "source": [
    "__author__ = 'BENALI Fodil'\n",
    "__email__ = 'fodel.benali@gmail.com'\n",
    "__copyright__ = 'Copyright (c) 2023, Technical Test'\n",
    "\n",
    "import sys\n",
    "\n",
    "import pandas as pd\n",
    "import numpy as np\n",
    "from sklearn.linear_model import LogisticRegression\n",
    "from sklearn.model_selection import train_test_split\n",
    "\n",
    "import matplotlib.pyplot as plt\n",
    "plt.rc(\"font\", size=14)\n",
    "import seaborn as sns\n",
    "sns.set(style=\"white\")\n",
    "sns.set(style=\"whitegrid\", color_codes=True)\n",
    "\n",
    "from scipy.stats import chi2_contingency\n",
    "from scipy.stats import f_oneway\n",
    "\n",
    "from scipy import stats\n",
    "import itertools\n",
    "import math\n",
    "\n",
    "from scipy.stats import ks_2samp\n",
    "from scipy.stats import ttest_ind\n",
    "\n",
    "from sklearn.linear_model import LogisticRegression, SGDClassifier\n",
    "from sklearn.tree import DecisionTreeClassifier\n",
    "from sklearn.ensemble import RandomForestClassifier\n",
    "from sklearn.ensemble import GradientBoostingClassifier\n",
    "from xgboost import XGBClassifier\n",
    "from sklearn.model_selection import train_test_split\n",
    "from sklearn.metrics import accuracy_score, precision_score, recall_score, f1_score\n",
    "from sklearn.model_selection import GridSearchCV, RandomizedSearchCV"
   ]
  },
  {
   "cell_type": "code",
   "execution_count": 2,
   "metadata": {},
   "outputs": [
    {
     "name": "stdout",
     "output_type": "stream",
     "text": [
      "3.7.9 (default, Aug 31 2020, 17:10:11) [MSC v.1916 64 bit (AMD64)]\n"
     ]
    }
   ],
   "source": [
    "# Check python version\n",
    "print(sys.version)"
   ]
  },
  {
   "cell_type": "markdown",
   "metadata": {},
   "source": [
    "# Question 1 : Data Description "
   ]
  },
  {
   "cell_type": "code",
   "execution_count": 3,
   "metadata": {},
   "outputs": [],
   "source": [
    "# Data Preparation class\n",
    "class DataPreprocessor:\n",
    "    \n",
    "    # Load data from a CSV File\n",
    "    def load_data(self, filepath):\n",
    "        return pd.read_csv(filepath)\n",
    "    \n",
    "    # Get Details about Data\n",
    "    def get_data_details(self, df):\n",
    "    \n",
    "        # Get number of columns to have idea about dimensionality to choose the most appropriate algorithms\n",
    "        print(f\"Number of Columns:{df.shape[1]}, number of observations: {df.shape[0]} \\n\")\n",
    "\n",
    "        categorial_features = []\n",
    "\n",
    "        numerical_features = []\n",
    "\n",
    "        other_features = []\n",
    "\n",
    "        if ((df.shape[0]>0) & (df.shape[1]>0)):\n",
    "\n",
    "            # Get the data types of the columns\n",
    "            column_types = df.dtypes\n",
    "\n",
    "            # Print the column names, data types, proportion of nan values in order to define the most adequate cleaning pipeline\n",
    "            for col, col_type in column_types.items():\n",
    "\n",
    "                print(f\"Column: {col}, Type: {col_type}, Proportion of Nan values: {round(df[col].isna().sum()/df.shape[0],3)}%\")\n",
    "\n",
    "                if col_type == 'object':\n",
    "                    categorial_features.append(col)\n",
    "\n",
    "                elif col_type in [np.int64, np.float64]:\n",
    "                    numerical_features.append(col)\n",
    "\n",
    "                else: \n",
    "                    other_features.append(col)\n",
    "\n",
    "            print(f\"\\n{len(categorial_features)} Categorical Features: {categorial_features}, \\\n",
    "                  \\n\\n{len(numerical_features)} Numerical Features: {numerical_features},\\\n",
    "                  \\n\\n{len(other_features)} Other Features: {other_features} \\n \")\n",
    "\n",
    "        return categorial_features, numerical_features, other_features\n",
    "\n",
    "    def remove_columns(self, data, to_drop):\n",
    "        \n",
    "        # Drop Duplicates Columns\n",
    "        print(f'--------- . Drop Useless Columns: {to_drop}')\n",
    "        data.drop(columns=to_drop, inplace=True)\n",
    "\n",
    "\n",
    "    def clean_data(self, data):\n",
    "        \n",
    "        # Trim whitespace from strings\n",
    "        print('--------- . Trim whitespace from strings')\n",
    "        data = data.apply(lambda x: x.str.strip() if x.dtype == \"object\" else x)\n",
    "\n",
    "        # Drop Duplicates Rows\n",
    "        print('--------- . Drop Duplicates Rows')\n",
    "        data.drop_duplicates(inplace=True)\n",
    "\n",
    "        # Remove rows with missing values : \n",
    "        # We have noticed that there is not a lot of missing values, for that we prefer remove its from the dataset\n",
    "        print('--------- . Remove rows with missing values')\n",
    "        data.dropna(inplace=True)\n",
    "        \n",
    "        return data\n",
    "        \n",
    "        \n",
    "    \n",
    "data_preprocessor = DataPreprocessor() "
   ]
  },
  {
   "cell_type": "markdown",
   "metadata": {},
   "source": [
    "# Data Preparation"
   ]
  },
  {
   "cell_type": "code",
   "execution_count": 4,
   "metadata": {},
   "outputs": [
    {
     "name": "stdout",
     "output_type": "stream",
     "text": [
      "------------------------------------------ Data structure ---------------------------------------------- \n",
      "\n",
      "<bound method NDFrame.head of        Unnamed: 0  index        date  cheveux   age   exp  salaire sexe  \\\n",
      "0               0      0  2012-06-02     roux  25.0   9.0  26803.0    F   \n",
      "1               1      1  2011-04-21    blond  35.0  13.0  38166.0    M   \n",
      "2               2      2  2012-09-07    blond  29.0  13.0  35207.0    M   \n",
      "3               3      3  2011-07-01     brun   NaN  12.0  32442.0    M   \n",
      "4               4      4  2012-08-07     roux  35.0   6.0  28533.0    F   \n",
      "...           ...    ...         ...      ...   ...   ...      ...  ...   \n",
      "19995       19995  19995  2012-03-10     roux  47.0   9.0  35723.0    M   \n",
      "19996       19996  19996  2010-09-19  chatain  38.0  10.0  33570.0    F   \n",
      "19997       19997  19997  2010-09-02  chatain  23.0   6.0  33751.0    F   \n",
      "19998       19998  19998  2011-12-06  chatain  33.0  11.0  34167.0    F   \n",
      "19999       19999  19999  2010-11-29     brun  35.0  14.0  44499.0    M   \n",
      "\n",
      "        diplome specialite    note dispo  embauche  \n",
      "0       licence   geologie   97.08   non         0  \n",
      "1       licence     forage   63.86   non         0  \n",
      "2       licence   geologie   78.50   non         0  \n",
      "3       licence   geologie   45.09   non         0  \n",
      "4       licence  detective   81.91   non         0  \n",
      "...         ...        ...     ...   ...       ...  \n",
      "19995   licence   geologie   66.47   non         0  \n",
      "19996    master   geologie   62.29   non         1  \n",
      "19997  doctorat  detective  103.48   oui         0  \n",
      "19998   licence  detective   73.35   non         0  \n",
      "19999       bac   geologie   45.62   non         0  \n",
      "\n",
      "[20000 rows x 13 columns]>\n",
      "\n",
      " --------------------------------------------- Data Description ------------------------------------------------- \n",
      "\n",
      "Number of Columns:13, number of observations: 20000 \n",
      "\n",
      "Column: Unnamed: 0, Type: int64, Proportion of Nan values: 0.0%\n",
      "Column: index, Type: int64, Proportion of Nan values: 0.0%\n",
      "Column: date, Type: object, Proportion of Nan values: 0.005%\n",
      "Column: cheveux, Type: object, Proportion of Nan values: 0.005%\n",
      "Column: age, Type: float64, Proportion of Nan values: 0.005%\n",
      "Column: exp, Type: float64, Proportion of Nan values: 0.005%\n",
      "Column: salaire, Type: float64, Proportion of Nan values: 0.005%\n",
      "Column: sexe, Type: object, Proportion of Nan values: 0.005%\n",
      "Column: diplome, Type: object, Proportion of Nan values: 0.006%\n",
      "Column: specialite, Type: object, Proportion of Nan values: 0.005%\n",
      "Column: note, Type: float64, Proportion of Nan values: 0.006%\n",
      "Column: dispo, Type: object, Proportion of Nan values: 0.005%\n",
      "Column: embauche, Type: int64, Proportion of Nan values: 0.0%\n",
      "\n",
      "6 Categorical Features: ['date', 'cheveux', 'sexe', 'diplome', 'specialite', 'dispo'],                   \n",
      "\n",
      "7 Numerical Features: ['Unnamed: 0', 'index', 'age', 'exp', 'salaire', 'note', 'embauche'],                  \n",
      "\n",
      "0 Other Features: [] \n",
      " \n",
      "\n",
      " --------------------------------------------- Data Cleaning ---------------------------------------------\n",
      "\n",
      "--------- . Convert Data To Correct Data Type\n",
      "--------- . Filter incoherent data (e.g., age < 16, experience<0, note > 100)\n",
      "--------- . Drop Useless Columns: ['Unnamed: 0', 'index']\n",
      "--------- . Trim whitespace from strings\n",
      "--------- . Drop Duplicates Rows\n",
      "--------- . Remove rows with missing values\n",
      "\n",
      " --------------------------------------------- Data After Cleaning -----------------------------------------------------\n",
      "\n",
      "Number of Columns:11, number of observations: 17195 \n",
      "\n",
      "Column: date, Type: datetime64[ns], Proportion of Nan values: 0.0%\n",
      "Column: cheveux, Type: object, Proportion of Nan values: 0.0%\n",
      "Column: age, Type: float64, Proportion of Nan values: 0.0%\n",
      "Column: exp, Type: float64, Proportion of Nan values: 0.0%\n",
      "Column: salaire, Type: float64, Proportion of Nan values: 0.0%\n",
      "Column: sexe, Type: object, Proportion of Nan values: 0.0%\n",
      "Column: diplome, Type: object, Proportion of Nan values: 0.0%\n",
      "Column: specialite, Type: object, Proportion of Nan values: 0.0%\n",
      "Column: note, Type: float64, Proportion of Nan values: 0.0%\n",
      "Column: dispo, Type: object, Proportion of Nan values: 0.0%\n",
      "Column: embauche, Type: int64, Proportion of Nan values: 0.0%\n",
      "\n",
      "5 Categorical Features: ['cheveux', 'sexe', 'diplome', 'specialite', 'dispo'],                   \n",
      "\n",
      "5 Numerical Features: ['age', 'exp', 'salaire', 'note', 'embauche'],                  \n",
      "\n",
      "1 Other Features: ['date'] \n",
      " \n"
     ]
    }
   ],
   "source": [
    "print('------------------------------------------ Data structure ---------------------------------------------- \\n')\n",
    "\n",
    "# Load the data\n",
    "file_path = './data.csv'\n",
    "data = data_preprocessor.load_data(file_path)\n",
    "print(data.head)\n",
    "\n",
    "\n",
    "print('\\n --------------------------------------------- Data Description ------------------------------------------------- \\n')          \n",
    "# To get infos about  columns\n",
    "categorial_features, numerical_featues, other_features = data_preprocessor.get_data_details(data)   \n",
    "\n",
    "\n",
    "print('\\n --------------------------------------------- Data Cleaning ---------------------------------------------\\n')\n",
    "\n",
    "# Convert columns to the correct data type\n",
    "print('--------- . Convert Data To Correct Data Type')\n",
    "\n",
    "#  Using errors=’coerce’. It will replace all non-numeric values with NaN/Nat\n",
    "data[\"age\"] = pd.to_numeric(data[\"age\"], downcast='integer', errors='coerce')\n",
    "data[\"exp\"] = pd.to_numeric(data[\"exp\"], downcast='integer', errors='coerce')\n",
    "data[\"date\"] = pd.to_datetime(data[\"date\"], format='%Y-%m-%d', errors='coerce')\n",
    "\n",
    "# Filter incoherent data:\n",
    "print('--------- . Filter incoherent data (e.g., age < 16, experience<0, note > 100)')\n",
    "# You can't graduate before age 16, with a few exceptions,\n",
    "# you can't have negative experience and a grade above 100\n",
    "data = data[(data[\"age\"]>=16) & (data[\"exp\"]>=0) & (data[\"note\"]<=100) & (data[\"note\"]>=0)]\n",
    "\n",
    "\n",
    "# Drop Useless Columns: Unnamed: 0, index: Duplicated \n",
    "#'cheveux': Discrimination based on physical appearance Not allowed in France, but we will keep it for analysis\n",
    "\n",
    "to_drop = ['Unnamed: 0', 'index']\n",
    "data_preprocessor.remove_columns(data, to_drop)\n",
    "\n",
    "data = data_preprocessor.clean_data(data)\n",
    "\n",
    "\n",
    "print('\\n --------------------------------------------- Data After Cleaning -----------------------------------------------------\\n')\n",
    "categorical_features, numerical_featues, other_features = data_preprocessor.get_data_details(data)"
   ]
  },
  {
   "cell_type": "markdown",
   "metadata": {},
   "source": [
    "# Data Exploration"
   ]
  },
  {
   "cell_type": "code",
   "execution_count": 5,
   "metadata": {},
   "outputs": [],
   "source": [
    "class DataExplorator:\n",
    "    \n",
    "    def dependent_variable_proportions(self, data, dependent_variable= 'embauche'):\n",
    "        \n",
    "        sns.countplot(x=dependent_variable, data=data, palette='hls').set_title('Proportion d\\'embauche')\n",
    "\n",
    "        plt.show()\n",
    "        \n",
    "        proportion = data[dependent_variable].sum()/data.shape[0]\n",
    "        \n",
    "        print(f\"Pourcentage d'embauche : {proportion* 100:.2f} %\\n\")\n",
    "        \n",
    "        return proportion\n",
    "    \n",
    "    def feature_proportions_per_dependent_variable(self, data, feature, dependent_variable= 'embauche'):\n",
    "        \n",
    "        ax = sns.countplot(x=feature, data=data, palette='hls', hue=dependent_variable).set_title(f'Proportion d\\'embauche par {feature}')\n",
    "            \n",
    "        plt.show()\n",
    "    \n",
    "        freq = {}\n",
    "\n",
    "        for label in data[feature].unique():\n",
    "            \n",
    "            freq[label] = str(round(100 * data[feature][(data[feature] == label) & (data[dependent_variable] == 1)].count()/data[feature][data[feature] == label].count(), 3))+ ' %'\n",
    "    \n",
    "        print(f'Hiring Proportion per category:{freq}\\n')\n",
    "        \n",
    "    \n",
    "    def feature_distribution_per_dependent_variable(self, data, feature, dependent_variable='embauche'):\n",
    "        \n",
    "        ax = sns.displot(data=data, x=feature, hue = dependent_variable, kind=\"kde\")\n",
    "\n",
    "        ax.figure.suptitle(f'Distribution of hiring per obtained {feature}')\n",
    "\n",
    "        plt.show()\n",
    "        \n",
    "    \n",
    "data_explorator = DataExplorator()   "
   ]
  },
  {
   "cell_type": "markdown",
   "metadata": {},
   "source": [
    "<div class=\"alert alert-block alert-info\">\n",
    "The <b>Chi-Squared test</b> is a statistical test used to assess the statistical significance of the association between two categorical variables. It is based on the Chi-Squared statistic, which measures the difference between the observed frequencies and the expected frequencies in the contingency table. The Chi-Squared test is commonly used to determine whether there is a significant association between two categorical variables. \n",
    "    \n",
    "If the p-value is small (typically less than 0.05), it indicates that the observed frequencies are significantly different from the expected frequencies, and therefore there is a significant association between the two variables. If the p-value is large, it indicates that the observed frequencies are not significantly different from the expected frequencies, and therefore there is no significant association between the variables.\n",
    "</div>"
   ]
  },
  {
   "cell_type": "markdown",
   "metadata": {},
   "source": [
    "<div class=\"alert alert-block alert-info\">\n",
    "    The <b>T-test</b> is a statistical test used to determine whether there is a significant difference between the means of two groups. It is commonly used to compare the means of two populations. The paired t-test is used to compare the means of two related samples, such as the scores of the same group of people on two different tests. It is used to test the hypothesis that the mean difference between the two tests is zero.\n",
    "\n",
    "To perform a t-test, you need to compute the t-statistic, which is a measure of the difference between the means of the two groups. The t-statistic is calculated as the difference between the means divided by the standard error of the difference. The p-value of the t-test is the probability of obtaining a t-statistic at least as large as the observed value, given that the null hypothesis (no difference between the means) is true.\n",
    "\n",
    "If the p-value is small (typically less than 0.05), it indicates that the observed difference between the means is statistically significant, and therefore there is a significant difference between the two groups. If the p-value is large, it indicates that the observed difference is not statistically significant, and therefore there is no significant difference between the groups.\n",
    "</div>"
   ]
  },
  {
   "cell_type": "markdown",
   "metadata": {},
   "source": [
    "<div class=\"alert alert-block alert-info\">\n",
    "<b>ANOVA (Analysis of Variance)</b> is a statistical test used to determine whether there is a significant difference between the means of two or more groups. It is used to compare the means of multiple groups, and to test the hypothesis that the means of the groups are equal. If the p-value is small (typically less than 0.05), it indicates that the observed difference between the means is statistically significant, and therefore there is a significant difference between the groups. If the p-value is large, it indicates that the observed difference is not statistically significant, and therefore there is no significant difference between the groups.\n",
    "    \n",
    "- One-way ANOVA is a statistical test that can be used to evaluate the dependence between a categorical and a continuous variable. The categorical variable is often referred to as the independent variable, while the continuous variable is referred to as the dependent variable.\n",
    "\n",
    "- One-way ANOVA is used to test the null hypothesis that the means of the dependent variable are equal across all levels of the independent variable. If the null hypothesis is rejected, it suggests that there is a significant difference in the means of the dependent variable between at least two levels of the independent variable, indicating a dependence between the two variables.\n",
    "\n",
    "- One-way ANOVA is an appropriate test to use when you have one categorical independent variable and a continuous dependent variable, and you want to test whether the mean of the dependent variable is the same across all levels of the independent variable.\n",
    "</div>"
   ]
  },
  {
   "cell_type": "code",
   "execution_count": 6,
   "metadata": {},
   "outputs": [],
   "source": [
    "class HypothesisTestEvaluation:\n",
    "\n",
    "    # Evaluate  association between pair of variables using Chi2 test  \n",
    "    def chi2_test(self, data, col1, col2=\"embauche\"):\n",
    "\n",
    "        # Create a contingency table\n",
    "        cont_table = pd.crosstab(data[col1], data[col2])\n",
    "\n",
    "        # Perform the chi-square test\n",
    "        chi2, p, dof, ex = chi2_contingency(cont_table)\n",
    "        \n",
    "        #p = round(p, 8)\n",
    "\n",
    "        # Determine the test result\n",
    "        if p < 0.05:\n",
    "            print(f\"p-value={p} < 0.05 ==>  Significant Dependence using Chi2 Test\")\n",
    "        else:\n",
    "            print(f\"p-value={p} >= 0.05 ==> No Significant Dependence using Chi2 Test\")\n",
    "            \n",
    "    \n",
    "    # Compare distribution using two-sample Kolmogorov-Smirnov test        \n",
    "    def compare_distribution_using_ks_test(self, data, col1, col2=\"embauche\"):\n",
    "        \n",
    "        statistic, p =  ks_2samp(data[data[col2]==1][col1].values, data[data[col2]==1][col1].values)\n",
    "        \n",
    "        # Determine the test result\n",
    "        if p < 0.05:\n",
    "            print(f\"p-value={p} < 0.05 ==>  Significant Dependence using Chi2 Test (significant difference between distributions)\")\n",
    "        else:\n",
    "            print(f\"p-value={p} >= 0.05 ==> No Significant Dependence using two-sample Kolmogorov-Smirnov test (same distribution)\")\n",
    "        \n",
    "        \n",
    "    # Compare distribution using  two-sample t-test        \n",
    "    def compare_distribution_using_tt_test(self, data, col1, col2=\"embauche\"):   \n",
    "\n",
    "        stat, p = ttest_ind(data[data[col2]==1][col1].values, data[data[col2]==1][col1].values)\n",
    "        \n",
    "        # Determine the test result\n",
    "        if p < 0.05:\n",
    "            print(f\"p-value={p} < 0.05 ==>  Significant Dependence using T Test (significant difference between distributions means)\")\n",
    "        else:\n",
    "            print(f\"p-value={p} >= 0.05 ==> No Significant Dependence using T test (no significant difference between distributions means)\")\n",
    "    \n",
    "    \n",
    "    def assess_dependence_using_anova_test(self, data, cat_col, cont_col):\n",
    "    \n",
    "        # Group the continuous column by the categorical column\n",
    "        grouped_df = data.groupby(cat_col)[cont_col]\n",
    "\n",
    "        # Perform the one-way ANOVA test\n",
    "        statistic, pvalue = f_oneway(*[grouped_df.get_group(x) for x in grouped_df.groups])\n",
    "        \n",
    "        p = pvalue\n",
    "\n",
    "        # Determine the test result\n",
    "        if p < 0.05:\n",
    "            print(f\"p-value={p} < 0.05 ==>  Significant Dependence using Anova one way Test\")\n",
    "        else:\n",
    "            print(f\"p-value={p} >= 0.05 ==> No Significant Dependence using Anova one way Test\")\n",
    "            \n",
    "hypothesis_test_evaluation = HypothesisTestEvaluation()"
   ]
  },
  {
   "cell_type": "code",
   "execution_count": 7,
   "metadata": {},
   "outputs": [
    {
     "name": "stdout",
     "output_type": "stream",
     "text": [
      " ----------------------------------------------- Data Exploration -----------------------------------------------------\n"
     ]
    },
    {
     "data": {
      "image/png": "[encoded data removed]",
      "text/plain": [
       "<Figure size 432x288 with 1 Axes>"
      ]
     },
     "metadata": {},
     "output_type": "display_data"
    },
    {
     "name": "stdout",
     "output_type": "stream",
     "text": [
      "Pourcentage d'embauche : 11.64 %\n",
      "\n",
      "----------------- Conclusion: Data set is unbalanced ----------------------\n"
     ]
    }
   ],
   "source": [
    "print(' ----------------------------------------------- Data Exploration -----------------------------------------------------')\n",
    "\n",
    "dependent_variable = 'embauche'\n",
    "\n",
    "proportion = data_explorator.dependent_variable_proportions(data)\n",
    "\n",
    "if(proportion < 0.5):\n",
    "\n",
    "    print(\"----------------- Conclusion: Data set is unbalanced ----------------------\")"
   ]
  },
  {
   "cell_type": "code",
   "execution_count": 8,
   "metadata": {},
   "outputs": [
    {
     "name": "stdout",
     "output_type": "stream",
     "text": [
      "Dependence Evaluation between: ['cheveux', 'sexe', 'diplome', 'specialite', 'dispo'] and the dependent feature: embauche\n"
     ]
    },
    {
     "data": {
      "image/png": "[encoded data removed]",
      "text/plain": [
       "<Figure size 432x288 with 1 Axes>"
      ]
     },
     "metadata": {},
     "output_type": "display_data"
    },
    {
     "name": "stdout",
     "output_type": "stream",
     "text": [
      "Hiring Proportion per category:{'roux': '7.053 %', 'blond': '12.175 %', 'chatain': '12.051 %', 'brun': '12.184 %'}\n",
      "\n",
      "p-value=2.817883450303054e-08 < 0.05 ==>  Significant Dependence using Chi2 Test\n"
     ]
    },
    {
     "data": {
      "image/png": "[encoded data removed]",
      "text/plain": [
       "<Figure size 432x288 with 1 Axes>"
      ]
     },
     "metadata": {},
     "output_type": "display_data"
    },
    {
     "name": "stdout",
     "output_type": "stream",
     "text": [
      "Hiring Proportion per category:{'F': '11.512 %', 'M': '11.723 %'}\n",
      "\n",
      "p-value=0.6936739461846821 >= 0.05 ==> No Significant Dependence using Chi2 Test\n"
     ]
    },
    {
     "data": {
      "image/png": "[encoded data removed]",
      "text/plain": [
       "<Figure size 432x288 with 1 Axes>"
      ]
     },
     "metadata": {},
     "output_type": "display_data"
    },
    {
     "name": "stdout",
     "output_type": "stream",
     "text": [
      "Hiring Proportion per category:{'licence': '11.699 %', 'master': '13.109 %', 'doctorat': '11.22 %', 'bac': '7.631 %'}\n",
      "\n",
      "p-value=1.1529541881237055e-10 < 0.05 ==>  Significant Dependence using Chi2 Test\n"
     ]
    },
    {
     "data": {
      "image/png": "[encoded data removed]",
      "text/plain": [
       "<Figure size 432x288 with 1 Axes>"
      ]
     },
     "metadata": {},
     "output_type": "display_data"
    },
    {
     "name": "stdout",
     "output_type": "stream",
     "text": [
      "Hiring Proportion per category:{'geologie': '11.621 %', 'forage': '9.543 %', 'detective': '10.732 %', 'archeologie': '21.838 %'}\n",
      "\n",
      "p-value=5.766819265444482e-28 < 0.05 ==>  Significant Dependence using Chi2 Test\n"
     ]
    },
    {
     "data": {
      "image/png": "[encoded data removed]",
      "text/plain": [
       "<Figure size 432x288 with 1 Axes>"
      ]
     },
     "metadata": {},
     "output_type": "display_data"
    },
    {
     "name": "stdout",
     "output_type": "stream",
     "text": [
      "Hiring Proportion per category:{'non': '11.395 %', 'oui': '12.052 %'}\n",
      "\n",
      "p-value=0.20139853226042273 >= 0.05 ==> No Significant Dependence using Chi2 Test\n"
     ]
    }
   ],
   "source": [
    "print(f'Dependence Evaluation between: {categorical_features} and the dependent feature: {dependent_variable}')\n",
    "\n",
    "for feature in categorical_features:\n",
    "\n",
    "    data_explorator.feature_proportions_per_dependent_variable(data, feature)\n",
    "    \n",
    "    hypothesis_test_evaluation.chi2_test(data, feature)"
   ]
  },
  {
   "cell_type": "markdown",
   "metadata": {},
   "source": [
    "#### From these figures, we notice:\n",
    "<div class=\"alert alert-block alert-success\">\n",
    " \n",
    " - There is <b>not a significant difference in the proportion of hires by gender and availability</b>.\n",
    "    \n",
    " - For the rest of the features, there are a significant differences.\n",
    " \n",
    " => These findings have been validated by the chi2 dependency test.\n",
    "\n",
    "Therefore, we can assume that there is not enough evidence to consider the gender and availability features as relevant during the hiring process.\n",
    "\n",
    "In the following, we will test some hypotheses that are often made during the recruitment process:\n",
    " - Are applicants with high grades more likely to be hired?\n",
    " - Are candidates with more experience more favorable during the recruitment process?\n",
    " - Can age be a criterion for selecting a candidate?\n",
    " - Does the year, month, season (e.g., heat in the summer, rain in the winter) impact the hiring process? \n",
    "</div>"
   ]
  },
  {
   "cell_type": "code",
   "execution_count": 9,
   "metadata": {},
   "outputs": [
    {
     "data": {
      "image/png": "[encoded data removed]",
      "text/plain": [
       "<Figure size 424.925x360 with 1 Axes>"
      ]
     },
     "metadata": {},
     "output_type": "display_data"
    },
    {
     "name": "stdout",
     "output_type": "stream",
     "text": [
      "p-value=1.0 >= 0.05 ==> No Significant Dependence using T test (no significant difference between distributions means)\n"
     ]
    }
   ],
   "source": [
    "data_explorator.feature_distribution_per_dependent_variable(data, \"note\")\n",
    "hypothesis_test_evaluation.compare_distribution_using_tt_test(data,\"note\")"
   ]
  },
  {
   "cell_type": "markdown",
   "metadata": {},
   "source": [
    "<div class=\"alert alert-block alert-success\">\n",
    "From the figure we can see that there are several candidates who had very good grades but were not hired. Therefore, <b>this may indicate that having very good grades is not enough to succeed in a recruitment process. This finding have been validated using the T-Test.</b>\n",
    " </div>"
   ]
  },
  {
   "cell_type": "code",
   "execution_count": 10,
   "metadata": {},
   "outputs": [
    {
     "data": {
      "image/png": "[encoded data removed]",
      "text/plain": [
       "<Figure size 424.925x360 with 1 Axes>"
      ]
     },
     "metadata": {},
     "output_type": "display_data"
    },
    {
     "name": "stdout",
     "output_type": "stream",
     "text": [
      "p-value=0.10822118583354262 >= 0.05 ==> No Significant Dependence using Chi2 Test\n"
     ]
    }
   ],
   "source": [
    "data_explorator.feature_distribution_per_dependent_variable(data, \"age\")\n",
    "hypothesis_test_evaluation.chi2_test(data,\"age\")"
   ]
  },
  {
   "cell_type": "markdown",
   "metadata": {},
   "source": [
    "<div class=\"alert alert-block alert-success\">\n",
    "From the figure we can see that there are several candidates who had same age but were not hired. Therefore, <b>this may indicate that the age alone is not a decisive creterion in a recruitment process. This finding have been validated using the Chi2-Test which compares the two distribution.</b>\n",
    " </div>"
   ]
  },
  {
   "cell_type": "code",
   "execution_count": 11,
   "metadata": {},
   "outputs": [
    {
     "name": "stdout",
     "output_type": "stream",
     "text": [
      "---------------------------------  Extract Features from date attribute -----------------------------------------------\n"
     ]
    },
    {
     "data": {
      "image/png": "[encoded data removed]",
      "text/plain": [
       "<Figure size 432x288 with 1 Axes>"
      ]
     },
     "metadata": {},
     "output_type": "display_data"
    },
    {
     "name": "stdout",
     "output_type": "stream",
     "text": [
      "Hiring Proportion per category:{'summer': '12.271 %', 'spring': '12.061 %', 'autumn': '11.553 %', 'winter': '10.668 %'}\n",
      "\n",
      "p-value=0.09358378576984065 >= 0.05 ==> No Significant Dependence using Chi2 Test\n"
     ]
    },
    {
     "data": {
      "image/png": "[encoded data removed]",
      "text/plain": [
       "<Figure size 432x288 with 1 Axes>"
      ]
     },
     "metadata": {},
     "output_type": "display_data"
    },
    {
     "name": "stdout",
     "output_type": "stream",
     "text": [
      "Hiring Proportion per category:{2012: '12.132 %', 2011: '11.443 %', 2014: '11.699 %', 2013: '13.077 %', 2010: '9.875 %'}\n",
      "\n",
      "p-value=0.0008917087873327919 < 0.05 ==>  Significant Dependence using Chi2 Test\n"
     ]
    },
    {
     "data": {
      "image/png": "[encoded data removed]",
      "text/plain": [
       "<Figure size 432x288 with 1 Axes>"
      ]
     },
     "metadata": {},
     "output_type": "display_data"
    },
    {
     "name": "stdout",
     "output_type": "stream",
     "text": [
      "Hiring Proportion per category:{6: '12.123 %', 4: '12.008 %', 9: '11.877 %', 8: '12.574 %', 2: '8.846 %', 11: '11.508 %', 3: '12.652 %', 10: '11.289 %', 7: '12.096 %', 5: '11.509 %', 1: '10.92 %', 12: '11.976 %'}\n",
      "\n",
      "p-value=0.2009517832844671 >= 0.05 ==> No Significant Dependence using Chi2 Test\n"
     ]
    }
   ],
   "source": [
    "# # Extract features from date attributes: Month, Year, Season\n",
    "print('---------------------------------  Extract Features from date attribute -----------------------------------------------')\n",
    "\n",
    "data[\"month\"] = data[\"date\"].dt.month.astype('category')\n",
    "\n",
    "data[\"year\"] = data[\"date\"].dt.year.astype('category')\n",
    "\n",
    "# Create a new column with the saison to characterize the period of hiring the most important\n",
    "data[\"season\"] = \"Unknown\"\n",
    "data.loc[data[\"month\"].isin([12, 1, 2]), \"season\"] = \"winter\"\n",
    "data.loc[data[\"month\"].isin([3, 4, 5]), \"season\"] = \"spring\"\n",
    "data.loc[data[\"month\"].isin([6, 7, 8]), \"season\"] = \"summer\"\n",
    "data.loc[data[\"month\"].isin([9, 10, 11]), \"season\"] = \"autumn\"\n",
    "data[\"season\"].astype('category')\n",
    "\n",
    "date_features = ['season', 'year', 'month']\n",
    "\n",
    "for feature in date_features:\n",
    "    \n",
    "    data_explorator.feature_proportions_per_dependent_variable(data, feature)\n",
    "    \n",
    "    hypothesis_test_evaluation.chi2_test(data, feature)\n"
   ]
  },
  {
   "cell_type": "markdown",
   "metadata": {},
   "source": [
    "<div class=\"alert alert-block alert-success\">\n",
    "From these figures and results, we notice that there <b>is no significant difference in the proportions of hiring by season and month</b>. In conclusion, this may lead us to discard date modeling in the recruitment process.\n",
    "</div>"
   ]
  },
  {
   "cell_type": "markdown",
   "metadata": {},
   "source": [
    "# Question 2 : Statistical Tests"
   ]
  },
  {
   "cell_type": "code",
   "execution_count": 12,
   "metadata": {},
   "outputs": [
    {
     "name": "stdout",
     "output_type": "stream",
     "text": [
      "p-value=0.0 < 0.05 ==>  Significant Dependence using Chi2 Test\n"
     ]
    }
   ],
   "source": [
    "# Pour répondre à la premiere question on utilise Chi2 Test\n",
    "hypothesis_test_evaluation.chi2_test(data, \"sexe\", \"specialite\")"
   ]
  },
  {
   "cell_type": "markdown",
   "metadata": {},
   "source": [
    "<div class=\"alert alert-block alert-success\">\n",
    "Since the p-value is less than a significant level of 0.05, then we can reject the hypothesis that the two columns are independent and we can conclude that <b>the two features specialty and sex present a significant level of dependence</b>.\n",
    "</div>"
   ]
  },
  {
   "cell_type": "code",
   "execution_count": 13,
   "metadata": {},
   "outputs": [
    {
     "name": "stdout",
     "output_type": "stream",
     "text": [
      "p-value=5.624715091556883e-28 < 0.05 ==>  Significant Dependence using Anova one way Test\n"
     ]
    }
   ],
   "source": [
    "cat_col = 'cheveux'\n",
    "cont_col = 'salaire'\n",
    "hypothesis_test_evaluation.assess_dependence_using_anova_test(data, cat_col, cont_col)"
   ]
  },
  {
   "cell_type": "markdown",
   "metadata": {},
   "source": [
    "<div class=\"alert alert-block alert-success\">\n",
    "The null hypothesis of the ANOVA test is that the means of the continuous variable are equal in the different categories of the categorical variable. Since the P-value obtained by the ANOVA test is less than 0.05, we can reject the null hypothesis and conclude that the means are significantly different, indicating that there is <b>a significant dependence between the hair variable and the wage variable</b>.\n",
    "</div>"
   ]
  },
  {
   "cell_type": "code",
   "execution_count": 14,
   "metadata": {},
   "outputs": [
    {
     "name": "stdout",
     "output_type": "stream",
     "text": [
      "p-value=0.17621223498289212 >= 0.05 ==> No Significant Dependence using Anova one way Test\n"
     ]
    }
   ],
   "source": [
    "cat_col = \"exp\"\n",
    "cont_col = \"note\"\n",
    "\n",
    "hypothesis_test_evaluation.assess_dependence_using_anova_test(data, cat_col, cont_col)"
   ]
  },
  {
   "cell_type": "markdown",
   "metadata": {},
   "source": [
    "<div class=\"alert alert-block alert-success\">\n",
    "The null hypothesis of the ANOVA test is that the means of the continuous variable are equal in the different categories of the categorical variable. Since the P-value obtained by the ANOVA test is greater than 0.05, we cannot reject the null hypothesis and conclude that the means are significantly different, which indicates that there is <b>no significant dependence between the experience feature and the score feature</b>.\n",
    "</div>"
   ]
  },
  {
   "cell_type": "markdown",
   "metadata": {},
   "source": [
    "# Question 3 : Model Fitting"
   ]
  },
  {
   "cell_type": "markdown",
   "metadata": {},
   "source": [
    "### 1. Filter unuseful data"
   ]
  },
  {
   "cell_type": "code",
   "execution_count": 15,
   "metadata": {},
   "outputs": [
    {
     "data": {
      "text/plain": [
       "Index(['date', 'cheveux', 'age', 'exp', 'salaire', 'sexe', 'diplome',\n",
       "       'specialite', 'note', 'dispo', 'embauche', 'month', 'year', 'season'],\n",
       "      dtype='object')"
      ]
     },
     "execution_count": 15,
     "metadata": {},
     "output_type": "execute_result"
    }
   ],
   "source": [
    "data.columns"
   ]
  },
  {
   "cell_type": "markdown",
   "metadata": {},
   "source": [
    "<div class=\"alert alert-block alert-success\">\n",
    "As there is no significant dependency between each of these variables ['date', 'month', 'sex', 'availability', 'season', 'year'] and the variable we want to predict (hiring). So I chose to omit them in my proposal.\n",
    "</div>"
   ]
  },
  {
   "cell_type": "code",
   "execution_count": 16,
   "metadata": {},
   "outputs": [],
   "source": [
    "to_drop = ['date', 'month', 'sexe', 'dispo', 'season', 'year']\n",
    "data.drop(columns=to_drop, inplace=True) "
   ]
  },
  {
   "cell_type": "markdown",
   "metadata": {},
   "source": [
    "### 2. Encode Categorical data"
   ]
  },
  {
   "cell_type": "markdown",
   "metadata": {},
   "source": [
    "<div class=\"alert alert-block alert-success\">\n",
    "In order to use the categorical variables in our models, we need to transform them: There are two types of categorical data: <b>Nominal and Ordinal</b>. For nominal variables, we will transform them using one hot encoding and for ordinal variables, we will use the label Encoding.\n",
    "</div>"
   ]
  },
  {
   "cell_type": "markdown",
   "metadata": {},
   "source": [
    "<div class=\"alert alert-block alert-info\">\n",
    "<b>One hot encoding</b> is a way to represent categorical variables as numerical data. It involves creating a new column for each unique category in a categorical variable. Each row is then marked with a 1 in the column for the corresponding category and 0 in all other new columns.\n",
    "</div>"
   ]
  },
  {
   "cell_type": "markdown",
   "metadata": {},
   "source": [
    "<div class=\"alert alert-block alert-info\">\n",
    "<b>Label encoding</b> is a way to represent categorical variables as numerical data. It involves assigning a unique integer value to each category and then encoding the categories as integers. One potential issue with label encoding is that it can imply an ordinal relationship between the categories, where in reality there may not be one.\n",
    "</div>"
   ]
  },
  {
   "cell_type": "code",
   "execution_count": 17,
   "metadata": {},
   "outputs": [],
   "source": [
    "from sklearn import preprocessing\n",
    "\n",
    "\n",
    "class FeaturesEncoders:\n",
    "\n",
    "    def one_hot_encoding(self, data, one_hot_encoding_vars):\n",
    "\n",
    "        for categorical_var in one_hot_encoding_vars:\n",
    "            # One hot encode the variable\n",
    "            one_hot_encoded = pd.get_dummies(data[categorical_var], drop_first=True)\n",
    "\n",
    "            # Concatenate the encoded variable with the original dataset\n",
    "            data = pd.concat([data, one_hot_encoded], axis=1)\n",
    "\n",
    "            # Drop the original categorical variable\n",
    "            data = data.drop(categorical_var, axis=1)\n",
    "\n",
    "        return data\n",
    "\n",
    "    def label_encoding_1(self, data, label_encoding_vars):\n",
    "\n",
    "        for categorical_var in label_encoding_vars:\n",
    "            # Create a label encoder\n",
    "            le = preprocessing.LabelEncoder()\n",
    "\n",
    "            # Fit the label encoder to the categorical variable\n",
    "            le.fit(data[categorical_var])\n",
    "\n",
    "            # Transform the categorical variable and store the encoded values in a new column\n",
    "            data[categorical_var] = le.transform(data[categorical_var])\n",
    "\n",
    "        return data\n",
    "\n",
    "    # Manual Label Encoding for ordinal variables\n",
    "    def label_encoding_2(self, data, feature, encoding_dic):    \n",
    "\n",
    "        data[feature].replace(encoding_dic, inplace=True)\n",
    "\n",
    "        return data  "
   ]
  },
  {
   "cell_type": "code",
   "execution_count": 18,
   "metadata": {},
   "outputs": [],
   "source": [
    "one_hot_encoding_vars = ['cheveux', 'specialite']\n",
    "\n",
    "label_encoding_vars = ['diplome']\n",
    "\n",
    "features_encoders = FeaturesEncoders()\n",
    "\n",
    "data = features_encoders.one_hot_encoding(data, one_hot_encoding_vars)\n",
    "\n",
    "# We have an order between the different categories of the variable diploma, for this, we must make the encoding manually \n",
    "data = features_encoders.label_encoding_2(data,'diplome', {\"bac\":1, \"licence\":2, 'master':3, 'doctorat':4})"
   ]
  },
  {
   "cell_type": "code",
   "execution_count": 19,
   "metadata": {},
   "outputs": [
    {
     "data": {
      "text/html": [
       "<div>\n",
       "<style scoped>\n",
       "    .dataframe tbody tr th:only-of-type {\n",
       "        vertical-align: middle;\n",
       "    }\n",
       "\n",
       "    .dataframe tbody tr th {\n",
       "        vertical-align: top;\n",
       "    }\n",
       "\n",
       "    .dataframe thead th {\n",
       "        text-align: right;\n",
       "    }\n",
       "</style>\n",
       "<table border=\"1\" class=\"dataframe\">\n",
       "  <thead>\n",
       "    <tr style=\"text-align: right;\">\n",
       "      <th></th>\n",
       "      <th>age</th>\n",
       "      <th>exp</th>\n",
       "      <th>salaire</th>\n",
       "      <th>diplome</th>\n",
       "      <th>note</th>\n",
       "      <th>brun</th>\n",
       "      <th>chatain</th>\n",
       "      <th>roux</th>\n",
       "      <th>detective</th>\n",
       "      <th>forage</th>\n",
       "      <th>geologie</th>\n",
       "    </tr>\n",
       "  </thead>\n",
       "  <tbody>\n",
       "    <tr>\n",
       "      <th>0</th>\n",
       "      <td>25.0</td>\n",
       "      <td>9.0</td>\n",
       "      <td>26803.0</td>\n",
       "      <td>2</td>\n",
       "      <td>97.08</td>\n",
       "      <td>0</td>\n",
       "      <td>0</td>\n",
       "      <td>1</td>\n",
       "      <td>0</td>\n",
       "      <td>0</td>\n",
       "      <td>1</td>\n",
       "    </tr>\n",
       "    <tr>\n",
       "      <th>1</th>\n",
       "      <td>35.0</td>\n",
       "      <td>13.0</td>\n",
       "      <td>38166.0</td>\n",
       "      <td>2</td>\n",
       "      <td>63.86</td>\n",
       "      <td>0</td>\n",
       "      <td>0</td>\n",
       "      <td>0</td>\n",
       "      <td>0</td>\n",
       "      <td>1</td>\n",
       "      <td>0</td>\n",
       "    </tr>\n",
       "    <tr>\n",
       "      <th>2</th>\n",
       "      <td>29.0</td>\n",
       "      <td>13.0</td>\n",
       "      <td>35207.0</td>\n",
       "      <td>2</td>\n",
       "      <td>78.50</td>\n",
       "      <td>0</td>\n",
       "      <td>0</td>\n",
       "      <td>0</td>\n",
       "      <td>0</td>\n",
       "      <td>0</td>\n",
       "      <td>1</td>\n",
       "    </tr>\n",
       "    <tr>\n",
       "      <th>4</th>\n",
       "      <td>35.0</td>\n",
       "      <td>6.0</td>\n",
       "      <td>28533.0</td>\n",
       "      <td>2</td>\n",
       "      <td>81.91</td>\n",
       "      <td>0</td>\n",
       "      <td>0</td>\n",
       "      <td>1</td>\n",
       "      <td>1</td>\n",
       "      <td>0</td>\n",
       "      <td>0</td>\n",
       "    </tr>\n",
       "    <tr>\n",
       "      <th>5</th>\n",
       "      <td>37.0</td>\n",
       "      <td>8.0</td>\n",
       "      <td>38558.0</td>\n",
       "      <td>3</td>\n",
       "      <td>63.46</td>\n",
       "      <td>0</td>\n",
       "      <td>1</td>\n",
       "      <td>0</td>\n",
       "      <td>0</td>\n",
       "      <td>0</td>\n",
       "      <td>1</td>\n",
       "    </tr>\n",
       "    <tr>\n",
       "      <th>...</th>\n",
       "      <td>...</td>\n",
       "      <td>...</td>\n",
       "      <td>...</td>\n",
       "      <td>...</td>\n",
       "      <td>...</td>\n",
       "      <td>...</td>\n",
       "      <td>...</td>\n",
       "      <td>...</td>\n",
       "      <td>...</td>\n",
       "      <td>...</td>\n",
       "      <td>...</td>\n",
       "    </tr>\n",
       "    <tr>\n",
       "      <th>19994</th>\n",
       "      <td>33.0</td>\n",
       "      <td>9.0</td>\n",
       "      <td>32674.0</td>\n",
       "      <td>2</td>\n",
       "      <td>65.23</td>\n",
       "      <td>0</td>\n",
       "      <td>0</td>\n",
       "      <td>0</td>\n",
       "      <td>0</td>\n",
       "      <td>0</td>\n",
       "      <td>1</td>\n",
       "    </tr>\n",
       "    <tr>\n",
       "      <th>19995</th>\n",
       "      <td>47.0</td>\n",
       "      <td>9.0</td>\n",
       "      <td>35723.0</td>\n",
       "      <td>2</td>\n",
       "      <td>66.47</td>\n",
       "      <td>0</td>\n",
       "      <td>0</td>\n",
       "      <td>1</td>\n",
       "      <td>0</td>\n",
       "      <td>0</td>\n",
       "      <td>1</td>\n",
       "    </tr>\n",
       "    <tr>\n",
       "      <th>19996</th>\n",
       "      <td>38.0</td>\n",
       "      <td>10.0</td>\n",
       "      <td>33570.0</td>\n",
       "      <td>3</td>\n",
       "      <td>62.29</td>\n",
       "      <td>0</td>\n",
       "      <td>1</td>\n",
       "      <td>0</td>\n",
       "      <td>0</td>\n",
       "      <td>0</td>\n",
       "      <td>1</td>\n",
       "    </tr>\n",
       "    <tr>\n",
       "      <th>19998</th>\n",
       "      <td>33.0</td>\n",
       "      <td>11.0</td>\n",
       "      <td>34167.0</td>\n",
       "      <td>2</td>\n",
       "      <td>73.35</td>\n",
       "      <td>0</td>\n",
       "      <td>1</td>\n",
       "      <td>0</td>\n",
       "      <td>1</td>\n",
       "      <td>0</td>\n",
       "      <td>0</td>\n",
       "    </tr>\n",
       "    <tr>\n",
       "      <th>19999</th>\n",
       "      <td>35.0</td>\n",
       "      <td>14.0</td>\n",
       "      <td>44499.0</td>\n",
       "      <td>1</td>\n",
       "      <td>45.62</td>\n",
       "      <td>1</td>\n",
       "      <td>0</td>\n",
       "      <td>0</td>\n",
       "      <td>0</td>\n",
       "      <td>0</td>\n",
       "      <td>1</td>\n",
       "    </tr>\n",
       "  </tbody>\n",
       "</table>\n",
       "<p>17195 rows × 11 columns</p>\n",
       "</div>"
      ],
      "text/plain": [
       "        age   exp  salaire  diplome   note  brun  chatain  roux  detective  \\\n",
       "0      25.0   9.0  26803.0        2  97.08     0        0     1          0   \n",
       "1      35.0  13.0  38166.0        2  63.86     0        0     0          0   \n",
       "2      29.0  13.0  35207.0        2  78.50     0        0     0          0   \n",
       "4      35.0   6.0  28533.0        2  81.91     0        0     1          1   \n",
       "5      37.0   8.0  38558.0        3  63.46     0        1     0          0   \n",
       "...     ...   ...      ...      ...    ...   ...      ...   ...        ...   \n",
       "19994  33.0   9.0  32674.0        2  65.23     0        0     0          0   \n",
       "19995  47.0   9.0  35723.0        2  66.47     0        0     1          0   \n",
       "19996  38.0  10.0  33570.0        3  62.29     0        1     0          0   \n",
       "19998  33.0  11.0  34167.0        2  73.35     0        1     0          1   \n",
       "19999  35.0  14.0  44499.0        1  45.62     1        0     0          0   \n",
       "\n",
       "       forage  geologie  \n",
       "0           0         1  \n",
       "1           1         0  \n",
       "2           0         1  \n",
       "4           0         0  \n",
       "5           0         1  \n",
       "...       ...       ...  \n",
       "19994       0         1  \n",
       "19995       0         1  \n",
       "19996       0         1  \n",
       "19998       0         0  \n",
       "19999       0         1  \n",
       "\n",
       "[17195 rows x 11 columns]"
      ]
     },
     "execution_count": 19,
     "metadata": {},
     "output_type": "execute_result"
    }
   ],
   "source": [
    "features = [col for col in data.columns if col !=\"embauche\"]\n",
    "data[features]"
   ]
  },
  {
   "cell_type": "markdown",
   "metadata": {},
   "source": [
    "### 3. Model Choice"
   ]
  },
  {
   "cell_type": "markdown",
   "metadata": {},
   "source": [
    "<div class=\"alert alert-block alert-info\">\n",
    "It is well known that tree-based algorithms : <b>Decision trees, random forests, and gradient boosting are all commonly used algorithms for classification tasks, and they are generally able to handle unbalanced data well</b>. These algorithms create a hierarchy of decision rules, which can be effective in identifying patterns in the data, even if the classes are unbalanced. In what follows, we will verify these assumptions by testing different algorithms with default configurations.\n",
    "</div>"
   ]
  },
  {
   "cell_type": "code",
   "execution_count": 20,
   "metadata": {},
   "outputs": [],
   "source": [
    "class ModelFitter:\n",
    "\n",
    "    def __init__(self, data, depedent_variable=\"embauche\", test_size=0.1, random_state=42):\n",
    "\n",
    "        data = data.reset_index(drop=True)\n",
    "\n",
    "        features = [col for col in data.columns if col !=depedent_variable]\n",
    "\n",
    "        X = data[features]\n",
    "\n",
    "        y = data[depedent_variable]\n",
    "        \n",
    "        self.predictions = {}\n",
    "\n",
    "        self.X_train, self.X_test, self.y_train, self.y_test = train_test_split(X, y, test_size=test_size, random_state=random_state)\n",
    "\n",
    "    def fit(self, model):\n",
    "\n",
    "        model_name = type(model).__name__\n",
    "        \n",
    "        model.fit(self.X_train, self.y_train)\n",
    "        \n",
    "        self.predictions[model_name] = model.predict(self.X_test)\n",
    "\n",
    "    def evaluate(self):\n",
    "\n",
    "        comparison_table = [['Model', 'Accuracy', 'Precision', 'Recall', 'F1-score']]\n",
    "        \n",
    "        for model in self.predictions.keys():\n",
    "            pred = self.predictions[model]\n",
    "            model_scores = [model, round(accuracy_score(self.y_test, pred),4), \\\n",
    "                            round(precision_score(self.y_test, pred),4), \\\n",
    "                            round(recall_score(self.y_test, pred),4), \\\n",
    "                            round(f1_score(self.y_test, pred),4)]\n",
    "            comparison_table.append(model_scores)\n",
    "\n",
    "        for line in comparison_table:\n",
    "            print(f'{line[0]:<25}', end='')\n",
    "            for ele in line[1:]:\n",
    "                print(f'{ele:<15}', end='')\n",
    "            print()"
   ]
  },
  {
   "cell_type": "code",
   "execution_count": 21,
   "metadata": {},
   "outputs": [
    {
     "name": "stdout",
     "output_type": "stream",
     "text": [
      "Model                    Accuracy       Precision      Recall         F1-score       \n",
      "LogisticRegression       0.8953         0.0            0.0            0.0            \n",
      "SGDClassifier            0.8953         0.0            0.0            0.0            \n",
      "DecisionTreeClassifier   0.8605         0.3469         0.3778         0.3617         \n",
      "RandomForestClassifier   0.9157         0.7215         0.3167         0.4402         \n",
      "GradientBoostingClassifier0.9058         0.875          0.1167         0.2059         \n",
      "XGBClassifier            0.9186         0.75           0.3333         0.4615         \n"
     ]
    },
    {
     "name": "stderr",
     "output_type": "stream",
     "text": [
      "C:\\Users\\utilisateur\\anaconda3\\lib\\site-packages\\sklearn\\metrics\\_classification.py:1318: UndefinedMetricWarning: Precision is ill-defined and being set to 0.0 due to no predicted samples. Use `zero_division` parameter to control this behavior.\n",
      "  _warn_prf(average, modifier, msg_start, len(result))\n",
      "C:\\Users\\utilisateur\\anaconda3\\lib\\site-packages\\sklearn\\metrics\\_classification.py:1318: UndefinedMetricWarning: Precision is ill-defined and being set to 0.0 due to no predicted samples. Use `zero_division` parameter to control this behavior.\n",
      "  _warn_prf(average, modifier, msg_start, len(result))\n"
     ]
    }
   ],
   "source": [
    "model_fitter = ModelFitter(data)\n",
    "\n",
    "classifiers = [LogisticRegression(), SGDClassifier(), DecisionTreeClassifier(), \\\n",
    "                       RandomForestClassifier(), GradientBoostingClassifier(), XGBClassifier()]\n",
    "\n",
    "for classifier in classifiers:\n",
    "    model_fitter.fit(classifier)\n",
    "    \n",
    "model_fitter.evaluate()"
   ]
  },
  {
   "cell_type": "markdown",
   "metadata": {},
   "source": [
    "<div class=\"alert alert-block alert-success\">\n",
    "From these results, we notice that we have good results in term of accuracy, but bad for the rest, especially the F1-Score. Howver, as the accuracy is misleading in this case because the data are not balanced. Therefore, we used other metrics such as:\n",
    "    \n",
    "- Precesion: the precision is the number of true positive predictions made by the model, divided by the total number of positive predictions made by the model. Precision is a good metric to use when the negative class is more prevalent, as it gives more weight to the correct identification of the minority class. In fact, in an unbalanced data set where the negative class is more prevalent, the classifier may be more likely to predict the negative class in order to achieve higher overall accuracy. However, this may lead to low accuracy, as there may be a high number of false positive predictions (negative instances that are incorrectly classified as positive). By using precision as a performance measure, we can ensure that the model is evaluated on its ability to correctly identify the positive class, rather than on its overall precision. \n",
    "\n",
    "- Recall: Recall is the number of true positive predictions made by the model, divided by the total number of true positive instances in the data. Recall is a good metric to use when the positive class is rarer, as it will give more weight to correctly identifying the minority class.\n",
    "\n",
    "- F1 Score: The F1 score is the harmonic mean of precision and recall, and is a good metric to use when you want to balance precision and recall.\n",
    "\n",
    "In the following, we will present some suggestions to improve it:\n",
    "- Balancing the data using undersampling (oversampling using nc-SMOTE could be done also)\n",
    "- Tuning the parameters of the best algorithm (in this case, based on the F1-score, the RFs are the best)\n",
    "- Use AutoML in order to select the best algorithm with its parameters (will not be done here, since my OS does not support AutoML)\n",
    "</div>"
   ]
  },
  {
   "cell_type": "markdown",
   "metadata": {},
   "source": [
    "\n",
    "### 1. Balancing data using undersampling"
   ]
  },
  {
   "cell_type": "code",
   "execution_count": 22,
   "metadata": {},
   "outputs": [
    {
     "data": {
      "text/html": [
       "<div>\n",
       "<style scoped>\n",
       "    .dataframe tbody tr th:only-of-type {\n",
       "        vertical-align: middle;\n",
       "    }\n",
       "\n",
       "    .dataframe tbody tr th {\n",
       "        vertical-align: top;\n",
       "    }\n",
       "\n",
       "    .dataframe thead th {\n",
       "        text-align: right;\n",
       "    }\n",
       "</style>\n",
       "<table border=\"1\" class=\"dataframe\">\n",
       "  <thead>\n",
       "    <tr style=\"text-align: right;\">\n",
       "      <th></th>\n",
       "      <th>age</th>\n",
       "      <th>exp</th>\n",
       "      <th>salaire</th>\n",
       "      <th>diplome</th>\n",
       "      <th>note</th>\n",
       "      <th>embauche</th>\n",
       "      <th>brun</th>\n",
       "      <th>chatain</th>\n",
       "      <th>roux</th>\n",
       "      <th>detective</th>\n",
       "      <th>forage</th>\n",
       "      <th>geologie</th>\n",
       "    </tr>\n",
       "  </thead>\n",
       "  <tbody>\n",
       "    <tr>\n",
       "      <th>14393</th>\n",
       "      <td>39.0</td>\n",
       "      <td>5.0</td>\n",
       "      <td>30748.0</td>\n",
       "      <td>3</td>\n",
       "      <td>87.60</td>\n",
       "      <td>0</td>\n",
       "      <td>0</td>\n",
       "      <td>1</td>\n",
       "      <td>0</td>\n",
       "      <td>0</td>\n",
       "      <td>0</td>\n",
       "      <td>1</td>\n",
       "    </tr>\n",
       "    <tr>\n",
       "      <th>11509</th>\n",
       "      <td>33.0</td>\n",
       "      <td>6.0</td>\n",
       "      <td>39564.0</td>\n",
       "      <td>2</td>\n",
       "      <td>51.77</td>\n",
       "      <td>0</td>\n",
       "      <td>0</td>\n",
       "      <td>0</td>\n",
       "      <td>0</td>\n",
       "      <td>1</td>\n",
       "      <td>0</td>\n",
       "      <td>0</td>\n",
       "    </tr>\n",
       "    <tr>\n",
       "      <th>998</th>\n",
       "      <td>41.0</td>\n",
       "      <td>6.0</td>\n",
       "      <td>39628.0</td>\n",
       "      <td>3</td>\n",
       "      <td>67.78</td>\n",
       "      <td>0</td>\n",
       "      <td>0</td>\n",
       "      <td>0</td>\n",
       "      <td>0</td>\n",
       "      <td>0</td>\n",
       "      <td>0</td>\n",
       "      <td>1</td>\n",
       "    </tr>\n",
       "    <tr>\n",
       "      <th>7697</th>\n",
       "      <td>24.0</td>\n",
       "      <td>10.0</td>\n",
       "      <td>37336.0</td>\n",
       "      <td>3</td>\n",
       "      <td>70.35</td>\n",
       "      <td>0</td>\n",
       "      <td>0</td>\n",
       "      <td>1</td>\n",
       "      <td>0</td>\n",
       "      <td>0</td>\n",
       "      <td>0</td>\n",
       "      <td>1</td>\n",
       "    </tr>\n",
       "    <tr>\n",
       "      <th>5668</th>\n",
       "      <td>35.0</td>\n",
       "      <td>16.0</td>\n",
       "      <td>43152.0</td>\n",
       "      <td>2</td>\n",
       "      <td>43.96</td>\n",
       "      <td>0</td>\n",
       "      <td>0</td>\n",
       "      <td>1</td>\n",
       "      <td>0</td>\n",
       "      <td>0</td>\n",
       "      <td>1</td>\n",
       "      <td>0</td>\n",
       "    </tr>\n",
       "    <tr>\n",
       "      <th>...</th>\n",
       "      <td>...</td>\n",
       "      <td>...</td>\n",
       "      <td>...</td>\n",
       "      <td>...</td>\n",
       "      <td>...</td>\n",
       "      <td>...</td>\n",
       "      <td>...</td>\n",
       "      <td>...</td>\n",
       "      <td>...</td>\n",
       "      <td>...</td>\n",
       "      <td>...</td>\n",
       "      <td>...</td>\n",
       "    </tr>\n",
       "    <tr>\n",
       "      <th>19944</th>\n",
       "      <td>26.0</td>\n",
       "      <td>9.0</td>\n",
       "      <td>39553.0</td>\n",
       "      <td>3</td>\n",
       "      <td>54.29</td>\n",
       "      <td>1</td>\n",
       "      <td>0</td>\n",
       "      <td>1</td>\n",
       "      <td>0</td>\n",
       "      <td>0</td>\n",
       "      <td>0</td>\n",
       "      <td>1</td>\n",
       "    </tr>\n",
       "    <tr>\n",
       "      <th>19955</th>\n",
       "      <td>35.0</td>\n",
       "      <td>10.0</td>\n",
       "      <td>33438.0</td>\n",
       "      <td>2</td>\n",
       "      <td>80.21</td>\n",
       "      <td>1</td>\n",
       "      <td>0</td>\n",
       "      <td>0</td>\n",
       "      <td>0</td>\n",
       "      <td>0</td>\n",
       "      <td>1</td>\n",
       "      <td>0</td>\n",
       "    </tr>\n",
       "    <tr>\n",
       "      <th>19981</th>\n",
       "      <td>35.0</td>\n",
       "      <td>14.0</td>\n",
       "      <td>31213.0</td>\n",
       "      <td>1</td>\n",
       "      <td>66.79</td>\n",
       "      <td>1</td>\n",
       "      <td>1</td>\n",
       "      <td>0</td>\n",
       "      <td>0</td>\n",
       "      <td>0</td>\n",
       "      <td>0</td>\n",
       "      <td>0</td>\n",
       "    </tr>\n",
       "    <tr>\n",
       "      <th>19989</th>\n",
       "      <td>25.0</td>\n",
       "      <td>11.0</td>\n",
       "      <td>40685.0</td>\n",
       "      <td>1</td>\n",
       "      <td>84.22</td>\n",
       "      <td>1</td>\n",
       "      <td>0</td>\n",
       "      <td>0</td>\n",
       "      <td>0</td>\n",
       "      <td>0</td>\n",
       "      <td>0</td>\n",
       "      <td>0</td>\n",
       "    </tr>\n",
       "    <tr>\n",
       "      <th>19996</th>\n",
       "      <td>38.0</td>\n",
       "      <td>10.0</td>\n",
       "      <td>33570.0</td>\n",
       "      <td>3</td>\n",
       "      <td>62.29</td>\n",
       "      <td>1</td>\n",
       "      <td>0</td>\n",
       "      <td>1</td>\n",
       "      <td>0</td>\n",
       "      <td>0</td>\n",
       "      <td>0</td>\n",
       "      <td>1</td>\n",
       "    </tr>\n",
       "  </tbody>\n",
       "</table>\n",
       "<p>4004 rows × 12 columns</p>\n",
       "</div>"
      ],
      "text/plain": [
       "        age   exp  salaire  diplome   note  embauche  brun  chatain  roux  \\\n",
       "14393  39.0   5.0  30748.0        3  87.60         0     0        1     0   \n",
       "11509  33.0   6.0  39564.0        2  51.77         0     0        0     0   \n",
       "998    41.0   6.0  39628.0        3  67.78         0     0        0     0   \n",
       "7697   24.0  10.0  37336.0        3  70.35         0     0        1     0   \n",
       "5668   35.0  16.0  43152.0        2  43.96         0     0        1     0   \n",
       "...     ...   ...      ...      ...    ...       ...   ...      ...   ...   \n",
       "19944  26.0   9.0  39553.0        3  54.29         1     0        1     0   \n",
       "19955  35.0  10.0  33438.0        2  80.21         1     0        0     0   \n",
       "19981  35.0  14.0  31213.0        1  66.79         1     1        0     0   \n",
       "19989  25.0  11.0  40685.0        1  84.22         1     0        0     0   \n",
       "19996  38.0  10.0  33570.0        3  62.29         1     0        1     0   \n",
       "\n",
       "       detective  forage  geologie  \n",
       "14393          0       0         1  \n",
       "11509          1       0         0  \n",
       "998            0       0         1  \n",
       "7697           0       0         1  \n",
       "5668           0       1         0  \n",
       "...          ...     ...       ...  \n",
       "19944          0       0         1  \n",
       "19955          0       1         0  \n",
       "19981          0       0         0  \n",
       "19989          0       0         0  \n",
       "19996          0       0         1  \n",
       "\n",
       "[4004 rows x 12 columns]"
      ]
     },
     "execution_count": 22,
     "metadata": {},
     "output_type": "execute_result"
    }
   ],
   "source": [
    "\n",
    "class DataBalancer:\n",
    "    \n",
    "    def under_sampling(self, data, dependent_variable=\"embauche\", random_state=1):\n",
    "\n",
    "        df_balanced_1 = data[data[dependent_variable] == 1]\n",
    "\n",
    "        df_balanced_0 = data[data[dependent_variable] == 0].sample(frac=1, random_state=random_state)[:len(df_balanced_1)]\n",
    "\n",
    "        data_balanced = pd.concat([df_balanced_0, df_balanced_1])\n",
    "\n",
    "        return data_balanced\n",
    "\n",
    "data_balancer = DataBalancer()\n",
    "balanced_data = data_balancer.under_sampling(data)\n",
    "balanced_data"
   ]
  },
  {
   "cell_type": "code",
   "execution_count": 23,
   "metadata": {},
   "outputs": [
    {
     "name": "stdout",
     "output_type": "stream",
     "text": [
      "Model                    Accuracy       Precision      Recall         F1-score       \n",
      "LogisticRegression       0.5062         0.482          0.5632         0.5194         \n",
      "SGDClassifier            0.5262         0.0            0.0            0.0            \n",
      "DecisionTreeClassifier   0.6584         0.6305         0.6737         0.6514         \n",
      "RandomForestClassifier   0.7581         0.7627         0.7105         0.7357         \n",
      "GradientBoostingClassifier0.7456         0.7245         0.7474         0.7358         \n",
      "XGBClassifier            0.7257         0.7174         0.6947         0.7059         \n"
     ]
    },
    {
     "name": "stderr",
     "output_type": "stream",
     "text": [
      "C:\\Users\\utilisateur\\anaconda3\\lib\\site-packages\\sklearn\\metrics\\_classification.py:1318: UndefinedMetricWarning: Precision is ill-defined and being set to 0.0 due to no predicted samples. Use `zero_division` parameter to control this behavior.\n",
      "  _warn_prf(average, modifier, msg_start, len(result))\n"
     ]
    }
   ],
   "source": [
    "model_fitter = ModelFitter(balanced_data)\n",
    "\n",
    "classifiers = [LogisticRegression(), SGDClassifier(), DecisionTreeClassifier(), \\\n",
    "                       RandomForestClassifier(), GradientBoostingClassifier(), XGBClassifier()]\n",
    "\n",
    "for classifier in classifiers:\n",
    "    model_fitter.fit(classifier)\n",
    "    \n",
    "model_fitter.evaluate()"
   ]
  },
  {
   "cell_type": "markdown",
   "metadata": {},
   "source": [
    "<div class=\"alert alert-block alert-success\">\n",
    "We see here that the performance of these classifiers has improved remarkably. Therefore, this confirms the fact that unbalanced data has a significant impact on the learning quality of an ML model. Nevertheless, we are still far from an acceptable prediction quality.\n",
    "</div>"
   ]
  },
  {
   "cell_type": "markdown",
   "metadata": {},
   "source": [
    "### 2. Fine tuning Random Forests"
   ]
  },
  {
   "cell_type": "markdown",
   "metadata": {},
   "source": [
    "<div class=\"alert alert-block alert-info\">\n",
    "There are several important parameters of a random forest model that can affect its performance:\n",
    "\n",
    "- <b>n_estimators</b>: This is the number of trees in the forest. A larger number of trees will typically lead to a more accurate model, but at the cost of increased computation time.\n",
    "\n",
    "- <b>max_depth</b>: This is the maximum depth of the trees in the forest. A larger maximum depth will result in more complex trees, which can lead to overfitting if the trees are allowed to grow too deep.\n",
    "\n",
    "- <b>min_samples_split</b>: This is the minimum number of samples required to split an internal node in the tree. A larger minimum sample size will result in simpler trees, which can reduce the risk of overfitting.\n",
    "\n",
    "- <b>min_samples_leaf</b>: This is the minimum number of samples required to be at a leaf node. A larger minimum sample size will result in simpler trees, which can reduce the risk of overfitting.\n",
    "\n",
    "- <b>max_features</b>: This is the maximum number of features considered when splitting a node in the tree. A larger number of features will result in more complex trees, which can lead to overfitting if the model is allowed to consider too many features.\n",
    "\n",
    "- <b>class_weight</b>: This is a weighting applied to the classes in the dataset. If the class distribution is imbalanced, adjusting the class weights can help the model to better handle the imbalanced data.\n",
    "\n",
    "- <b>random_state</b>: This is a seed value used to initialize the random number generator, which is used to randomly select features and samples when building the trees. Setting a fixed random state can be useful for reproducibility of results.\n",
    "</div>"
   ]
  },
  {
   "cell_type": "code",
   "execution_count": 28,
   "metadata": {},
   "outputs": [],
   "source": [
    "# Number of trees in random forest\n",
    "n_estimators = [int(x) for x in np.linspace(start = 200, stop = 1000, num = 10)]\n",
    "\n",
    "# Number of features to consider at every split\n",
    "max_features = ['sqrt']\n",
    "\n",
    "# Maximum number of levels in tree\n",
    "max_depth = [int(x) for x in np.linspace(10, 110, num = 10)]\n",
    "max_depth.append(None)\n",
    "\n",
    "# Minimum number of samples required to split a node\n",
    "min_samples_split = [2, 5, 10]\n",
    "\n",
    "# Minimum number of samples required at each leaf node\n",
    "min_samples_leaf = [1, 2, 4]\n",
    "\n",
    "class_weight = ['balanced', 'balanced_subsample']\n",
    "# bootstrap: Whether bootstrap samples are used when building trees. If False, the whole dataset is used to build each tree.\n",
    "bootstrap = [False]"
   ]
  },
  {
   "cell_type": "markdown",
   "metadata": {},
   "source": [
    "<div class=\"alert alert-block alert-success\">\n",
    "To fine tune these parameters, we perform a grid search over the specified hyperparameter values using 5-fold cross-validation. \n",
    "The GridSearchCV class will fit and evaluate the model for each combination of hyperparameters, \n",
    "and the best combination will be chosen based on the model's performance on the validation data.\n",
    "    \n",
    "For the sake of simplicity, we use RandomizedSearchCV which is similar to GridSearchCV, but instead of searching over a grid of hyperparameter values, it samples from a distribution of possible hyperparameter values. This can be more efficient than GridSearchCV when the hyperparameter search space is large, because it does not need to evaluate every possible combination of hyperparameters.\n",
    "</div>"
   ]
  },
  {
   "cell_type": "code",
   "execution_count": 29,
   "metadata": {},
   "outputs": [
    {
     "name": "stdout",
     "output_type": "stream",
     "text": [
      "Fitting 3 folds for each of 5 candidates, totalling 15 fits\n",
      "Model                    Accuracy       Precision      Recall         F1-score       \n",
      "RandomizedSearchCV       0.9192         0.7971         0.3056         0.4418         \n"
     ]
    }
   ],
   "source": [
    "# Define the model\n",
    "model = RandomForestClassifier(random_state=12)\n",
    "\n",
    "# Define the hyperparameter grid\n",
    "param_grid = {'n_estimators': n_estimators,\n",
    "              'max_depth': max_depth,\n",
    "              'min_samples_split': min_samples_split,\n",
    "              'min_samples_leaf': min_samples_leaf,\n",
    "              'max_features': max_features,\n",
    "              #'class_weight':class_weight,\n",
    "             'bootstrap':bootstrap}\n",
    "\n",
    "# Create a grid search object\n",
    "#grid_search = GridSearchCV(estimator=model, param_grid=param_grid, cv=5)\n",
    "\n",
    "randomized_rearch_rf = RandomizedSearchCV(estimator = model, param_distributions = param_grid, n_iter = 5, \n",
    "                               cv = 3, verbose=2,  random_state=12, n_jobs = -1)\n",
    "\n",
    "model_fitter = ModelFitter(data)\n",
    "\n",
    "model_fitter.fit(randomized_rearch_rf)\n",
    "    \n",
    "model_fitter.evaluate()"
   ]
  },
  {
   "cell_type": "code",
   "execution_count": 30,
   "metadata": {},
   "outputs": [
    {
     "data": {
      "text/plain": [
       "{'n_estimators': 288,\n",
       " 'min_samples_split': 2,\n",
       " 'min_samples_leaf': 4,\n",
       " 'max_features': 'sqrt',\n",
       " 'max_depth': 32,\n",
       " 'bootstrap': False}"
      ]
     },
     "execution_count": 30,
     "metadata": {},
     "output_type": "execute_result"
    }
   ],
   "source": [
    "randomized_rearch_rf.best_params_"
   ]
  },
  {
   "cell_type": "code",
   "execution_count": 31,
   "metadata": {},
   "outputs": [
    {
     "name": "stdout",
     "output_type": "stream",
     "text": [
      "Fitting 3 folds for each of 5 candidates, totalling 15 fits\n",
      "Model                    Accuracy       Precision      Recall         F1-score       \n",
      "RandomizedSearchCV       0.7631         0.7654         0.7211         0.7425         \n"
     ]
    }
   ],
   "source": [
    "model_fitter_balanced = ModelFitter(balanced_data)\n",
    "\n",
    "model_fitter_balanced.fit(randomized_rearch_rf)\n",
    "    \n",
    "model_fitter_balanced.evaluate()"
   ]
  },
  {
   "cell_type": "markdown",
   "metadata": {},
   "source": [
    "<div class=\"alert alert-block alert-success\">\n",
    "To conclude, using both of the data undersampling and parameters tuning have improved considerably the performances. Neverthless, the quality of predictions could be more enhanced if we use an oversampling approach like NC-SMOTE.\n",
    "</div>"
   ]
  }
 ],
 "metadata": {
  "kernelspec": {
   "display_name": "Python 3",
   "language": "python",
   "name": "python3"
  },
  "language_info": {
   "codemirror_mode": {
    "name": "ipython",
    "version": 3
   },
   "file_extension": ".py",
   "mimetype": "text/x-python",
   "name": "python",
   "nbconvert_exporter": "python",
   "pygments_lexer": "ipython3",
   "version": "3.7.9"
  }
 },
 "nbformat": 4,
 "nbformat_minor": 4
}
